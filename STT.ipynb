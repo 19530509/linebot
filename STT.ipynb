{
 "cells": [
  {
   "cell_type": "code",
   "execution_count": 1,
   "id": "b1dcaa5a-b491-4222-a53b-fb62c26031bd",
   "metadata": {},
   "outputs": [
    {
     "name": "stdout",
     "output_type": "stream",
     "text": [
      "Running on local URL:  http://127.0.0.1:7860\n",
      "Running on public URL: https://0cffaba8f090adc125.gradio.live\n",
      "\n",
      "This share link expires in 72 hours. For free permanent hosting and GPU upgrades, run `gradio deploy` from Terminal to deploy to Spaces (https://huggingface.co/spaces)\n"
     ]
    },
    {
     "data": {
      "text/html": [
       "<div><iframe src=\"https://0cffaba8f090adc125.gradio.live\" width=\"100%\" height=\"500\" allow=\"autoplay; camera; microphone; clipboard-read; clipboard-write;\" frameborder=\"0\" allowfullscreen></iframe></div>"
      ],
      "text/plain": [
       "<IPython.core.display.HTML object>"
      ]
     },
     "metadata": {},
     "output_type": "display_data"
    },
    {
     "data": {
      "text/plain": []
     },
     "execution_count": 1,
     "metadata": {},
     "output_type": "execute_result"
    },
    {
     "name": "stderr",
     "output_type": "stream",
     "text": [
      "ERROR:    Exception in ASGI application\n",
      "Traceback (most recent call last):\n",
      "  File \"C:\\Users\\USER\\anaconda3\\envs\\W20240908\\Lib\\site-packages\\uvicorn\\protocols\\http\\h11_impl.py\", line 406, in run_asgi\n",
      "    result = await app(  # type: ignore[func-returns-value]\n",
      "             ^^^^^^^^^^^^^^^^^^^^^^^^^^^^^^^^^^^^^^^^^^^^^^\n",
      "  File \"C:\\Users\\USER\\anaconda3\\envs\\W20240908\\Lib\\site-packages\\uvicorn\\middleware\\proxy_headers.py\", line 70, in __call__\n",
      "    return await self.app(scope, receive, send)\n",
      "           ^^^^^^^^^^^^^^^^^^^^^^^^^^^^^^^^^^^^\n",
      "  File \"C:\\Users\\USER\\anaconda3\\envs\\W20240908\\Lib\\site-packages\\fastapi\\applications.py\", line 1054, in __call__\n",
      "    await super().__call__(scope, receive, send)\n",
      "  File \"C:\\Users\\USER\\anaconda3\\envs\\W20240908\\Lib\\site-packages\\starlette\\applications.py\", line 113, in __call__\n",
      "    await self.middleware_stack(scope, receive, send)\n",
      "  File \"C:\\Users\\USER\\anaconda3\\envs\\W20240908\\Lib\\site-packages\\starlette\\middleware\\errors.py\", line 187, in __call__\n",
      "    raise exc\n",
      "  File \"C:\\Users\\USER\\anaconda3\\envs\\W20240908\\Lib\\site-packages\\starlette\\middleware\\errors.py\", line 165, in __call__\n",
      "    await self.app(scope, receive, _send)\n",
      "  File \"C:\\Users\\USER\\anaconda3\\envs\\W20240908\\Lib\\site-packages\\gradio\\route_utils.py\", line 760, in __call__\n",
      "    await self.app(scope, receive, send)\n",
      "  File \"C:\\Users\\USER\\anaconda3\\envs\\W20240908\\Lib\\site-packages\\starlette\\middleware\\exceptions.py\", line 62, in __call__\n",
      "    await wrap_app_handling_exceptions(self.app, conn)(scope, receive, send)\n",
      "  File \"C:\\Users\\USER\\anaconda3\\envs\\W20240908\\Lib\\site-packages\\starlette\\_exception_handler.py\", line 62, in wrapped_app\n",
      "    raise exc\n",
      "  File \"C:\\Users\\USER\\anaconda3\\envs\\W20240908\\Lib\\site-packages\\starlette\\_exception_handler.py\", line 51, in wrapped_app\n",
      "    await app(scope, receive, sender)\n",
      "  File \"C:\\Users\\USER\\anaconda3\\envs\\W20240908\\Lib\\site-packages\\starlette\\routing.py\", line 715, in __call__\n",
      "    await self.middleware_stack(scope, receive, send)\n",
      "  File \"C:\\Users\\USER\\anaconda3\\envs\\W20240908\\Lib\\site-packages\\starlette\\routing.py\", line 735, in app\n",
      "    await route.handle(scope, receive, send)\n",
      "  File \"C:\\Users\\USER\\anaconda3\\envs\\W20240908\\Lib\\site-packages\\starlette\\routing.py\", line 288, in handle\n",
      "    await self.app(scope, receive, send)\n",
      "  File \"C:\\Users\\USER\\anaconda3\\envs\\W20240908\\Lib\\site-packages\\starlette\\routing.py\", line 76, in app\n",
      "    await wrap_app_handling_exceptions(app, request)(scope, receive, send)\n",
      "  File \"C:\\Users\\USER\\anaconda3\\envs\\W20240908\\Lib\\site-packages\\starlette\\_exception_handler.py\", line 62, in wrapped_app\n",
      "    raise exc\n",
      "  File \"C:\\Users\\USER\\anaconda3\\envs\\W20240908\\Lib\\site-packages\\starlette\\_exception_handler.py\", line 51, in wrapped_app\n",
      "    await app(scope, receive, sender)\n",
      "  File \"C:\\Users\\USER\\anaconda3\\envs\\W20240908\\Lib\\site-packages\\starlette\\routing.py\", line 74, in app\n",
      "    await response(scope, receive, send)\n",
      "  File \"C:\\Users\\USER\\anaconda3\\envs\\W20240908\\Lib\\site-packages\\starlette\\responses.py\", line 338, in __call__\n",
      "    await send(\n",
      "  File \"C:\\Users\\USER\\anaconda3\\envs\\W20240908\\Lib\\site-packages\\starlette\\_exception_handler.py\", line 48, in sender\n",
      "    await send(message)\n",
      "  File \"C:\\Users\\USER\\anaconda3\\envs\\W20240908\\Lib\\site-packages\\starlette\\_exception_handler.py\", line 48, in sender\n",
      "    await send(message)\n",
      "  File \"C:\\Users\\USER\\anaconda3\\envs\\W20240908\\Lib\\site-packages\\starlette\\middleware\\errors.py\", line 162, in _send\n",
      "    await send(message)\n",
      "  File \"C:\\Users\\USER\\anaconda3\\envs\\W20240908\\Lib\\site-packages\\uvicorn\\protocols\\http\\h11_impl.py\", line 510, in send\n",
      "    output = self.conn.send(event=h11.EndOfMessage())\n",
      "             ^^^^^^^^^^^^^^^^^^^^^^^^^^^^^^^^^^^^^^^^\n",
      "  File \"C:\\Users\\USER\\anaconda3\\envs\\W20240908\\Lib\\site-packages\\h11\\_connection.py\", line 512, in send\n",
      "    data_list = self.send_with_data_passthrough(event)\n",
      "                ^^^^^^^^^^^^^^^^^^^^^^^^^^^^^^^^^^^^^^\n",
      "  File \"C:\\Users\\USER\\anaconda3\\envs\\W20240908\\Lib\\site-packages\\h11\\_connection.py\", line 545, in send_with_data_passthrough\n",
      "    writer(event, data_list.append)\n",
      "  File \"C:\\Users\\USER\\anaconda3\\envs\\W20240908\\Lib\\site-packages\\h11\\_writers.py\", line 67, in __call__\n",
      "    self.send_eom(event.headers, write)\n",
      "  File \"C:\\Users\\USER\\anaconda3\\envs\\W20240908\\Lib\\site-packages\\h11\\_writers.py\", line 96, in send_eom\n",
      "    raise LocalProtocolError(\"Too little data for declared Content-Length\")\n",
      "h11._util.LocalProtocolError: Too little data for declared Content-Length\n"
     ]
    }
   ],
   "source": [
    "import gradio as gr\n",
    "import requests\n",
    "def transcribe_audio_gradio(audio):\n",
    "    # 如果音訊檔案未正確上傳，回傳錯誤訊息\n",
    "    if audio is None:\n",
    "        return \"音訊檔案未正確上傳。請再試一次。\"\n",
    "    \n",
    "    # 將音訊檔案上傳到 Flask API\n",
    "    # 這裡我們使用 HTTP POST 請求，並將音訊檔案作為表單數據的一部分上傳\n",
    "    with open(audio, \"rb\") as f:\n",
    "        response = requests.post(\"http://127.0.0.1:10000/transcribe\", files={\"file\": f})\n",
    "    \n",
    "    # 如果請求成功並且回覆狀態碼為 200，則從回覆的json中提取逐字稿內容\n",
    "    if response.status_code == 200:\n",
    "        return response.json().get(\"transcription\", \"未能辨識出逐字稿。\")\n",
    "    else:\n",
    "        # 如果請求失敗或回覆其他狀態碼，返回錯誤訊息\n",
    "        return f\"發生錯誤: {response.json().get('error', '未知錯誤')}\"\n",
    "# 建立 Gradio 介面\n",
    "# fn 參數設定為處理音訊轉逐字稿的函數 transcribe_audio_gradio\n",
    "# inputs 設定為音訊檔案的上傳文件，type 設為 \"filepath\" 表示上傳文件的路徑\n",
    "# outputs 設定為顯示轉逐字稿結果的內容輸出\n",
    "# title 和 description 用來設定介面的標題和描述\n",
    "iface = gr.Interface(\n",
    "    fn=transcribe_audio_gradio,\n",
    "    inputs=gr.Audio(type=\"filepath\"),\n",
    "    outputs=\"text\",\n",
    "    title=\"繁體中文語音辨識 API 測試\",\n",
    "    description=\"上傳音訊檔案以進行 Whisper API 的語音轉逐字稿服務\",\n",
    ")\n",
    "# 啟動 Gradio 介面並提供外部連結(72 hrs)\n",
    "# share=True 參數允許生成一個外部可訪問的連結，用於分享和測試\n",
    "iface.launch(share=True)"
   ]
  },
  {
   "cell_type": "code",
   "execution_count": null,
   "id": "b44df2e9-8c7a-4053-b81b-5f0baf0f6856",
   "metadata": {},
   "outputs": [],
   "source": []
  }
 ],
 "metadata": {
  "kernelspec": {
   "display_name": "Python 3 (ipykernel)",
   "language": "python",
   "name": "python3"
  },
  "language_info": {
   "codemirror_mode": {
    "name": "ipython",
    "version": 3
   },
   "file_extension": ".py",
   "mimetype": "text/x-python",
   "name": "python",
   "nbconvert_exporter": "python",
   "pygments_lexer": "ipython3",
   "version": "3.11.9"
  }
 },
 "nbformat": 4,
 "nbformat_minor": 5
}
